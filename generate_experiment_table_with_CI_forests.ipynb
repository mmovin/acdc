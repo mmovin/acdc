{
 "cells": [
  {
   "cell_type": "code",
   "execution_count": 61,
   "outputs": [
    {
     "name": "stdout",
     "output_type": "stream",
     "text": [
      "The autoreload extension is already loaded. To reload it, use:\n",
      "  %reload_ext autoreload\n"
     ]
    }
   ],
   "source": [
    "%load_ext autoreload\n",
    "%autoreload 2"
   ],
   "metadata": {
    "collapsed": false,
    "pycharm": {
     "name": "#%%\n"
    }
   }
  },
  {
   "cell_type": "code",
   "execution_count": 62,
   "outputs": [],
   "source": [
    "import os\n",
    "import pandas as pd\n",
    "import numpy as np\n",
    "\n",
    "from math import isnan\n",
    "from pathlib import Path\n",
    "from datetime import datetime\n",
    "from scipy.stats import bootstrap\n",
    "from carla.data.catalog import OnlineCatalog"
   ],
   "metadata": {
    "collapsed": false,
    "pycharm": {
     "name": "#%%\n"
    }
   }
  },
  {
   "cell_type": "code",
   "execution_count": 63,
   "outputs": [],
   "source": [
    "dataset_name = 'give_me_some_credit'\n",
    "data = OnlineCatalog(data_name=dataset_name)\n",
    "num_features = len(data.continuous)\n",
    "#result_path = 'results_remote/results'\n",
    "result_path = os.path.join(\"~\", \"carla\", \"results\")\n",
    "remove_acdc = False\n",
    "remove_vaes = False\n",
    "vaes = ['crud','revise', 'clue']\n",
    "sess_results_file = False\n",
    "model_type = \"forest\"\n",
    "model_type_dict = \"forest\"\n",
    "rms = \"acdc_dice_gs_proto_roar_retrained\"\n",
    "rms_array = [\"acdc\", \"dice\", \"gs\", \"proto\", \"roar\"]\n",
    "date = str(datetime.date(datetime.now()))\n",
    "save_results_path = 'tables/exp_1_CI/{}/'.format(date)\n",
    "Path(save_results_path).mkdir(parents=True, exist_ok=True)\n",
    "\n",
    "metrics = ['L1_distance', 'LOF', 'trade_off']"
   ],
   "metadata": {
    "collapsed": false,
    "pycharm": {
     "name": "#%%\n"
    }
   }
  },
  {
   "cell_type": "markdown",
   "source": [
    "## Read results"
   ],
   "metadata": {
    "collapsed": false,
    "pycharm": {
     "name": "#%% md\n"
    }
   }
  },
  {
   "cell_type": "code",
   "source": [
    "recourse_results = pd.read_csv(result_path + '/{}/{}/{}/results.csv'.format(dataset_name, model_type_dict, rms))\n"
   ],
   "metadata": {
    "collapsed": false,
    "pycharm": {
     "name": "#%%\n"
    }
   },
   "execution_count": 64,
   "outputs": []
  },
  {
   "cell_type": "code",
   "execution_count": 65,
   "outputs": [],
   "source": [
    "result_table = recourse_results[recourse_results['ML_Model'] == model_type]\n",
    "result_table['L1_distance'] = result_table['L1_distance']/num_features\n",
    "result_table['trade_off'] = np.sqrt(result_table['LOF'] * result_table['LOF'] + result_table['L1_distance'] * result_table['L1_distance'])\n",
    "\n",
    "models = []\n",
    "for type in ['ann', 'linear', 'forest']:\n",
    "    for i in range(20):\n",
    "        models.append(\"success_model_{}_{}\".format(type, i))\n",
    "    result_table[\"Success_retrained_{}_models\".format(type)] = result_table[models].mean(axis=1)\n",
    "    metrics.append(\"Success_retrained_{}_models\".format(type))"
   ],
   "metadata": {
    "collapsed": false,
    "pycharm": {
     "name": "#%%\n"
    }
   }
  },
  {
   "cell_type": "code",
   "execution_count": 66,
   "outputs": [
    {
     "name": "stdout",
     "output_type": "stream",
     "text": [
      "----------------acdc_________L1_distance--------------\n",
      "ConfidenceInterval(low=0.10099850021393601, high=0.11543635105807845)\n",
      "----------------acdc_________LOF--------------\n",
      "1.0,1.0\n",
      "----------------acdc_________trade_off--------------\n",
      "ConfidenceInterval(low=1.0056665831817262, high=1.0074263592917045)\n",
      "----------------acdc_________Success_retrained_ann_models--------------\n",
      "1.0,1.0\n",
      "----------------acdc_________Success_retrained_linear_models--------------\n",
      "1.0,1.0\n",
      "----------------acdc_________Success_retrained_forest_models--------------\n",
      "1.0,1.0\n",
      "----------------dice_________L1_distance--------------\n",
      "ConfidenceInterval(low=0.060135734640518676, high=0.07556060215590901)\n",
      "----------------dice_________LOF--------------\n",
      "ConfidenceInterval(low=0.48, high=0.67)\n",
      "----------------dice_________trade_off--------------\n",
      "ConfidenceInterval(low=0.5160528151774276, high=0.7016959829774932)\n",
      "----------------dice_________Success_retrained_ann_models--------------\n",
      "ConfidenceInterval(low=0.41550000000000004, high=0.5565)\n",
      "----------------dice_________Success_retrained_linear_models--------------\n",
      "ConfidenceInterval(low=0.38517713276241433, high=0.54125)\n",
      "----------------dice_________Success_retrained_forest_models--------------\n",
      "ConfidenceInterval(low=0.43849999999999995, high=0.5561666666666667)\n",
      "----------------gs_________L1_distance--------------\n",
      "ConfidenceInterval(low=0.004014093026944203, high=0.008140762436237447)\n",
      "----------------gs_________LOF--------------\n",
      "ConfidenceInterval(low=0.08, high=0.22)\n",
      "----------------gs_________trade_off--------------\n",
      "ConfidenceInterval(low=0.09538955739202612, high=0.23488416161478154)\n",
      "----------------gs_________Success_retrained_ann_models--------------\n",
      "ConfidenceInterval(low=0.267, high=0.4156968413024006)\n",
      "----------------gs_________Success_retrained_linear_models--------------\n",
      "ConfidenceInterval(low=0.2279724988147783, high=0.3635527648151919)\n",
      "----------------gs_________Success_retrained_forest_models--------------\n",
      "ConfidenceInterval(low=0.40266666666666656, high=0.5003042561157223)\n",
      "----------------proto_________L1_distance--------------\n",
      "ConfidenceInterval(low=0.02875032298612358, high=0.040280903336142246)\n",
      "----------------proto_________LOF--------------\n",
      "ConfidenceInterval(low=0.07, high=0.2)\n",
      "----------------proto_________trade_off--------------\n",
      "ConfidenceInterval(low=0.10364250481366263, high=0.23395994284299435)\n",
      "----------------proto_________Success_retrained_ann_models--------------\n",
      "ConfidenceInterval(low=0.4259999999999999, high=0.590481999169532)\n",
      "----------------proto_________Success_retrained_linear_models--------------\n",
      "ConfidenceInterval(low=0.40875000000000006, high=0.57175)\n",
      "----------------proto_________Success_retrained_forest_models--------------\n",
      "ConfidenceInterval(low=0.5126666666666666, high=0.6481666666666667)\n",
      "----------------roar_________L1_distance--------------\n",
      "ConfidenceInterval(low=0.007395379014353718, high=0.008301326768200296)\n",
      "----------------roar_________LOF--------------\n",
      "ConfidenceInterval(low=0.09, high=0.24)\n",
      "----------------roar_________trade_off--------------\n",
      "ConfidenceInterval(low=0.1163705362891348, high=0.2559740377612587)\n",
      "----------------roar_________Success_retrained_ann_models--------------\n",
      "ConfidenceInterval(low=0.15803609921823017, high=0.292)\n",
      "----------------roar_________Success_retrained_linear_models--------------\n",
      "ConfidenceInterval(low=0.15924999999999997, high=0.29674999999999996)\n",
      "----------------roar_________Success_retrained_forest_models--------------\n",
      "ConfidenceInterval(low=0.30366666666666664, high=0.41400000000000003)\n"
     ]
    }
   ],
   "source": [
    "result = pd.DataFrame(dtype=\"string\")\n",
    "for rm in rms_array:\n",
    "    result_rm = pd.DataFrame(dtype=\"string\")\n",
    "    result_rm['Recourse_Method'] = [rm]\n",
    "    for metric in metrics:\n",
    "        print(\"----------------{}_________{}--------------\".format(rm, metric))\n",
    "        data = result_table[result_table['Recourse_Method'] == rm][metric]\n",
    "        if data.min() == data.max():\n",
    "            low = data.min()\n",
    "            high = data.max()\n",
    "            print(\"{},{}\".format(data.mean(), data.mean()))\n",
    "        else:\n",
    "            data = (data, )\n",
    "            res = bootstrap(data, np.mean)\n",
    "            low = res.confidence_interval.low\n",
    "            high = res.confidence_interval.high\n",
    "            data = data[0]\n",
    "            print(res.confidence_interval)\n",
    "        result_rm[metric] = ['{:.2f} ({:.2f}, {:.2f})'.format(data.mean(), low, high )]\n",
    "\n",
    "    result = pd.concat([result, result_rm])"
   ],
   "metadata": {
    "collapsed": false,
    "pycharm": {
     "name": "#%%\n"
    }
   }
  },
  {
   "cell_type": "code",
   "execution_count": 67,
   "outputs": [],
   "source": [
    "success_result = pd.DataFrame()\n",
    "for rm in rms_array:\n",
    "    successful = len(result_table[result_table['Recourse_Method'] == rm])\n",
    "    result_rm = pd.DataFrame(dtype=\"string\")\n",
    "    result_rm['Recourse_Method'] = [rm]\n",
    "    if successful == 100:\n",
    "        result_rm['Success_Rate'] = ['{:.2f} ({:.2f}, {:.2f})'.format(1.0, 1.0, 1.0 )]\n",
    "    else:\n",
    "        success_table = np.array([1]*successful + [0] * (100-successful))\n",
    "        data = (success_table, )\n",
    "        res = bootstrap(data, np.mean)\n",
    "        low = res.confidence_interval.low\n",
    "        high = res.confidence_interval.high\n",
    "        data = data[0]\n",
    "        print(res.confidence_interval)\n",
    "        result_rm['Success_Rate'] = ['{:.2f} ({:.2f}, {:.2f})'.format(data.mean(), low, high )]\n",
    "    success_result = pd.concat([success_result, result_rm])\n",
    "\n",
    "result = result.set_index('Recourse_Method')\n",
    "success_result = success_result.set_index('Recourse_Method')\n",
    "result = result.join(success_result, on='Recourse_Method')\n",
    "#success_table = pd.DataFrame([1]*successful + [0] * (100-successful))\n",
    "#result_table[['Success_Rate', \"Recourse_Method\"]].groupby('Recourse_Method').mean()"
   ],
   "metadata": {
    "collapsed": false,
    "pycharm": {
     "name": "#%%\n"
    }
   }
  },
  {
   "cell_type": "code",
   "execution_count": 68,
   "outputs": [],
   "source": [
    "#result['Success_Rate'] = result_table[['Success_Rate', \"Recourse_Method\"]].groupby('Recourse_Method').mean()['Success_Rate']"
   ],
   "metadata": {
    "collapsed": false,
    "pycharm": {
     "name": "#%%\n"
    }
   }
  },
  {
   "cell_type": "code",
   "execution_count": 69,
   "outputs": [],
   "source": [
    "#order_of_columns = ['Success_Rate', \"Success_retrained_ann_models\", \"Success_retrained_linear_models\", \"Success_retrained_forest_models\", \"trade-off\", \"LOF\", \"L1_Distance\"]\n",
    "order_of_columns = ['Success_Rate', \"Success_retrained_ann_models\", \"Success_retrained_linear_models\", \"Success_retrained_forest_models\", \"trade_off\", \"LOF\", \"L1_distance\"]\n",
    "#result = result.join(result_table[['Success_Rate', \"Recourse_Method\"]].groupby('Recourse_Method').mean(), on='Recourse_Method').set_index('Recourse_Method')\n",
    "result = result.sort_index()\n",
    "result = result[order_of_columns]\n",
    "result.to_csv('{}{}_{}.csv'.format(save_results_path, dataset_name, model_type), float_format='%.2f')\n",
    "\n",
    "#small_result_table.to_csv('{}{}_{}_small.csv'.format(save_results_path, dataset_name, model_type), float_format='%.2f')"
   ],
   "metadata": {
    "collapsed": false,
    "pycharm": {
     "name": "#%%\n"
    }
   }
  }
 ],
 "metadata": {
  "kernelspec": {
   "name": "pycharm-6d0a8c1b",
   "language": "python",
   "display_name": "PyCharm (CARLA)"
  },
  "language_info": {
   "codemirror_mode": {
    "name": "ipython",
    "version": 3
   },
   "file_extension": ".py",
   "mimetype": "text/x-python",
   "name": "python",
   "nbconvert_exporter": "python",
   "pygments_lexer": "ipython3",
   "version": "3.7.9"
  }
 },
 "nbformat": 4,
 "nbformat_minor": 5
}