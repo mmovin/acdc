{
 "cells": [
  {
   "cell_type": "code",
   "execution_count": 142,
   "outputs": [
    {
     "name": "stdout",
     "output_type": "stream",
     "text": [
      "The autoreload extension is already loaded. To reload it, use:\n",
      "  %reload_ext autoreload\n"
     ]
    }
   ],
   "source": [
    "%load_ext autoreload\n",
    "%autoreload 2"
   ],
   "metadata": {
    "collapsed": false,
    "pycharm": {
     "name": "#%%\n"
    }
   }
  },
  {
   "cell_type": "code",
   "execution_count": 143,
   "outputs": [],
   "source": [
    "import os\n",
    "import pandas as pd\n",
    "import numpy as np\n",
    "\n",
    "from math import isnan\n",
    "from pathlib import Path\n",
    "from datetime import datetime\n",
    "from scipy.stats import bootstrap\n",
    "from carla.data.catalog import OnlineCatalog"
   ],
   "metadata": {
    "collapsed": false,
    "pycharm": {
     "name": "#%%\n"
    }
   }
  },
  {
   "cell_type": "code",
   "execution_count": 144,
   "outputs": [],
   "source": [
    "dataset_name = 'mnist'\n",
    "model_type = \"ann\"\n",
    "model_type_dict = \"ann_linear\"\n",
    "data = OnlineCatalog(data_name=dataset_name)\n",
    "num_features = len(data.continuous)\n",
    "#result_path = 'results_remote/results'\n",
    "result_path = os.path.join(\"~\", \"carla\", \"results\")\n",
    "remove_acdc = False\n",
    "remove_vaes = False\n",
    "vaes = ['crud','revise', 'clue']\n",
    "sess_results_file = False\n",
    "\n",
    "rms = \"dice_cchvae_cruds_proto_roar_wachter_gs_acdc_retrained\"\n",
    "rms_array = [\"dice\", \"cchvae\", \"cruds\", \"proto\", \"roar\", \"wachter\", \"gs\", \"acdc\"]\n",
    "date = str(datetime.date(datetime.now()))\n",
    "save_results_path = 'tables/exp_1_CI/{}/'.format(date)\n",
    "Path(save_results_path).mkdir(parents=True, exist_ok=True)\n",
    "\n",
    "if dataset_name == 'breast_cancer' or dataset_name == 'give_me_some_credit':\n",
    "    metrics = ['trade_off', 'LOF',  'L1_distance', 'Constraint_Violation']\n",
    "    metrics_non_model = metrics.copy()\n",
    "else:\n",
    "    metrics = ['trade_off', 'LOF',  'L1_distance', 'avg_time']\n",
    "    metrics_non_model = metrics.copy()\n",
    "\n",
    "if model_type == 'forest':\n",
    "    rms = 'acdc_dice_gs_proto_roar_retrained'\n",
    "    rms_array = ['acdc', 'dice', 'gs', 'proto', 'roar']\n",
    "elif dataset_name == 'mnist':\n",
    "    rms = 'dice_proto_roar_wachter_gs_acdc_retrained'\n",
    "    rms_array = ['dice', 'proto', 'roar', 'wachter', 'gs', 'acdc']\n",
    "\n",
    "#rms = 'roar_retrained'\n",
    "#rms_array = ['roar']"
   ],
   "metadata": {
    "collapsed": false,
    "pycharm": {
     "name": "#%%\n"
    }
   }
  },
  {
   "cell_type": "markdown",
   "source": [
    "## Read results"
   ],
   "metadata": {
    "collapsed": false,
    "pycharm": {
     "name": "#%% md\n"
    }
   }
  },
  {
   "cell_type": "code",
   "source": [
    "recourse_results = pd.read_csv(result_path + '/{}/{}/{}/results.csv'.format(dataset_name, model_type_dict, rms))"
   ],
   "metadata": {
    "collapsed": false,
    "pycharm": {
     "name": "#%%\n"
    }
   },
   "execution_count": 145,
   "outputs": []
  },
  {
   "cell_type": "markdown",
   "source": [
    "* Add NaN for number of non successful -- Don't need this since it is only calc for successful. Need it for calculating success_rate\n",
    "* use scipy to do bootstrapping\n",
    "\n",
    "Start by testing bootstrapping on things we already have:\n"
   ],
   "metadata": {
    "collapsed": false,
    "pycharm": {
     "name": "#%% md\n"
    }
   }
  },
  {
   "cell_type": "code",
   "execution_count": 146,
   "outputs": [
    {
     "name": "stderr",
     "output_type": "stream",
     "text": [
      "/Users/mariamovin/.pyenv/versions/carla/lib/python3.7/site-packages/ipykernel_launcher.py:2: SettingWithCopyWarning: \n",
      "A value is trying to be set on a copy of a slice from a DataFrame.\n",
      "Try using .loc[row_indexer,col_indexer] = value instead\n",
      "\n",
      "See the caveats in the documentation: https://pandas.pydata.org/pandas-docs/stable/user_guide/indexing.html#returning-a-view-versus-a-copy\n",
      "  \n",
      "/Users/mariamovin/.pyenv/versions/carla/lib/python3.7/site-packages/ipykernel_launcher.py:3: SettingWithCopyWarning: \n",
      "A value is trying to be set on a copy of a slice from a DataFrame.\n",
      "Try using .loc[row_indexer,col_indexer] = value instead\n",
      "\n",
      "See the caveats in the documentation: https://pandas.pydata.org/pandas-docs/stable/user_guide/indexing.html#returning-a-view-versus-a-copy\n",
      "  This is separate from the ipykernel package so we can avoid doing imports until\n",
      "/Users/mariamovin/.pyenv/versions/carla/lib/python3.7/site-packages/ipykernel_launcher.py:9: SettingWithCopyWarning: \n",
      "A value is trying to be set on a copy of a slice from a DataFrame.\n",
      "Try using .loc[row_indexer,col_indexer] = value instead\n",
      "\n",
      "See the caveats in the documentation: https://pandas.pydata.org/pandas-docs/stable/user_guide/indexing.html#returning-a-view-versus-a-copy\n",
      "  if __name__ == '__main__':\n"
     ]
    }
   ],
   "source": [
    "result_table = recourse_results[recourse_results['ML_Model'] == model_type]\n",
    "result_table['L1_distance'] = result_table['L1_distance']/num_features\n",
    "result_table['trade_off'] = np.sqrt(result_table['LOF'] * result_table['LOF'] + result_table['L1_distance'] * result_table['L1_distance'])\n",
    "\n",
    "models = []\n",
    "for type in ['ann', 'linear', 'forest']:\n",
    "    for i in range(20):\n",
    "        models.append(\"success_model_{}_{}\".format(type, i))\n",
    "    result_table[\"Success_retrained_{}_models\".format(type)] = result_table[models].mean(axis=1)\n",
    "    metrics.append(\"Success_retrained_{}_models\".format(type))"
   ],
   "metadata": {
    "collapsed": false,
    "pycharm": {
     "name": "#%%\n"
    }
   }
  },
  {
   "cell_type": "code",
   "execution_count": 147,
   "outputs": [
    {
     "name": "stdout",
     "output_type": "stream",
     "text": [
      "----------------dice_________trade_off--------------\n",
      "ConfidenceInterval(low=0.5069329860304171, high=0.6950892880949846)\n",
      "----------------dice_________LOF--------------\n",
      "ConfidenceInterval(low=0.49, high=0.69)\n",
      "----------------dice_________L1_distance--------------\n",
      "ConfidenceInterval(low=0.029610896222875466, high=0.043267256566213774)\n",
      "----------------dice_________avg_time--------------\n",
      "13.123525421620581,13.123525421620581\n",
      "----------------dice_________Success_retrained_ann_models--------------\n",
      "ConfidenceInterval(low=0.45600000000000007, high=0.5389999999999999)\n",
      "----------------dice_________Success_retrained_linear_models--------------\n",
      "ConfidenceInterval(low=0.33124999999999993, high=0.4195)\n",
      "----------------dice_________Success_retrained_forest_models--------------\n",
      "ConfidenceInterval(low=0.2733333333333333, high=0.3448333333333333)\n",
      "----------------proto_________trade_off--------------\n",
      "ConfidenceInterval(low=0.0430775015883189, high=0.04753873258023587)\n",
      "----------------proto_________LOF--------------\n",
      "0.0,0.0\n",
      "----------------proto_________L1_distance--------------\n",
      "ConfidenceInterval(low=0.04306749418965625, high=0.047568259787205955)\n",
      "----------------proto_________avg_time--------------\n",
      "2.7310711599106434,2.7310711599106434\n",
      "----------------proto_________Success_retrained_ann_models--------------\n",
      "ConfidenceInterval(low=0.714, high=0.8155)\n",
      "----------------proto_________Success_retrained_linear_models--------------\n",
      "ConfidenceInterval(low=0.4760000000000001, high=0.5830032785956842)\n",
      "----------------proto_________Success_retrained_forest_models--------------\n",
      "ConfidenceInterval(low=0.441, high=0.5375)\n",
      "----------------roar_________trade_off--------------\n",
      "ConfidenceInterval(low=0.13155112966517965, high=0.29128141055904355)\n",
      "----------------roar_________LOF--------------\n",
      "ConfidenceInterval(low=0.12, high=0.28)\n",
      "----------------roar_________L1_distance--------------\n",
      "ConfidenceInterval(low=0.0018089096290718235, high=0.002319088585519852)\n",
      "----------------roar_________avg_time--------------\n",
      "1.3092873363301625,1.3092873363301625\n",
      "----------------roar_________Success_retrained_ann_models--------------\n",
      "ConfidenceInterval(low=0.0005, high=0.008)\n",
      "----------------roar_________Success_retrained_linear_models--------------\n",
      "ConfidenceInterval(low=0.00425, high=0.03825)\n",
      "----------------roar_________Success_retrained_forest_models--------------\n",
      "ConfidenceInterval(low=0.025666666666666667, high=0.07083333333333333)\n",
      "----------------wachter_________trade_off--------------\n",
      "ConfidenceInterval(low=0.07893632913275256, high=0.29118702005842423)\n",
      "----------------wachter_________LOF--------------\n",
      "ConfidenceInterval(low=0.027777777777777776, high=0.2222222222222222)\n",
      "----------------wachter_________L1_distance--------------\n",
      "ConfidenceInterval(low=0.04677186144879768, high=0.05977652936591279)\n",
      "----------------wachter_________avg_time--------------\n",
      "0.12942125324043444,0.12942125324043444\n",
      "----------------wachter_________Success_retrained_ann_models--------------\n",
      "ConfidenceInterval(low=0.28194444444444444, high=0.4375)\n",
      "----------------wachter_________Success_retrained_linear_models--------------\n",
      "ConfidenceInterval(low=0.20694444444444443, high=0.36388888888888893)\n",
      "----------------wachter_________Success_retrained_forest_models--------------\n",
      "ConfidenceInterval(low=0.3074074074074074, high=0.43657407407407417)\n",
      "----------------gs_________trade_off--------------\n",
      "ConfidenceInterval(low=0.8645932511612404, high=0.9789782600063714)\n",
      "----------------gs_________LOF--------------\n",
      "ConfidenceInterval(low=0.81, high=0.94)\n",
      "----------------gs_________L1_distance--------------\n",
      "ConfidenceInterval(low=0.19578673562462104, high=0.2240424011755538)\n",
      "----------------gs_________avg_time--------------\n",
      "4.3549794435198415,4.3549794435198415\n",
      "----------------gs_________Success_retrained_ann_models--------------\n",
      "ConfidenceInterval(low=0.316, high=0.39799999999999996)\n",
      "----------------gs_________Success_retrained_linear_models--------------\n",
      "ConfidenceInterval(low=0.23775, high=0.3139223894796892)\n",
      "----------------gs_________Success_retrained_forest_models--------------\n",
      "ConfidenceInterval(low=0.26083333333333336, high=0.31866666666666665)\n",
      "----------------acdc_________trade_off--------------\n",
      "ConfidenceInterval(low=0.058088951914432266, high=0.06635958245306225)\n",
      "----------------acdc_________LOF--------------\n",
      "0.0,0.0\n",
      "----------------acdc_________L1_distance--------------\n",
      "ConfidenceInterval(low=0.05795674513114836, high=0.06630629194782917)\n",
      "----------------acdc_________avg_time--------------\n",
      "0.4183800427103415,0.4183800427103415\n",
      "----------------acdc_________Success_retrained_ann_models--------------\n",
      "ConfidenceInterval(low=0.9625, high=0.995)\n",
      "----------------acdc_________Success_retrained_linear_models--------------\n",
      "ConfidenceInterval(low=0.8052351243269196, high=0.89225)\n",
      "----------------acdc_________Success_retrained_forest_models--------------\n",
      "ConfidenceInterval(low=0.8424131679062091, high=0.9046666666666667)\n"
     ]
    }
   ],
   "source": [
    "result = pd.DataFrame(dtype=\"string\")\n",
    "for rm in rms_array:\n",
    "    result_rm = pd.DataFrame(dtype=\"string\")\n",
    "    result_rm['Recourse_Method'] = [rm]\n",
    "    for metric in metrics:\n",
    "        print(\"----------------{}_________{}--------------\".format(rm, metric))\n",
    "        data = result_table[result_table['Recourse_Method'] == rm][metric]\n",
    "        if data.min() == data.max():\n",
    "            low = data.min()\n",
    "            high = data.max()\n",
    "            print(\"{},{}\".format(data.mean(), data.mean()))\n",
    "        else:\n",
    "            data = (data, )\n",
    "            res = bootstrap(data, np.mean)\n",
    "            low = res.confidence_interval.low\n",
    "            high = res.confidence_interval.high\n",
    "            data = data[0]\n",
    "            print(res.confidence_interval)\n",
    "        result_rm[metric] = ['{:.2f} ({:.2f}, {:.2f})'.format(data.mean(), low, high )]\n",
    "\n",
    "    result = pd.concat([result, result_rm])"
   ],
   "metadata": {
    "collapsed": false,
    "pycharm": {
     "name": "#%%\n"
    }
   }
  },
  {
   "cell_type": "code",
   "execution_count": 148,
   "outputs": [
    {
     "name": "stdout",
     "output_type": "stream",
     "text": [
      "ConfidenceInterval(low=0.26, high=0.45)\n"
     ]
    }
   ],
   "source": [
    "success_result = pd.DataFrame()\n",
    "for rm in rms_array:\n",
    "    successful =int(result_table[result_table['Recourse_Method'] == rm]['Success_Rate'].mean() * 100)\n",
    "    result_rm = pd.DataFrame(dtype=\"string\")\n",
    "    result_rm['Recourse_Method'] = [rm]\n",
    "    if successful == 100:\n",
    "        result_rm['Success_Rate'] = ['{:.2f} ({:.2f}, {:.2f})'.format(1.0, 1.0, 1.0 )]\n",
    "    else:\n",
    "        success_table = np.array([1]*successful + [0] * (100-successful))\n",
    "        data = (success_table, )\n",
    "        res = bootstrap(data, np.mean)\n",
    "        low = res.confidence_interval.low\n",
    "        high = res.confidence_interval.high\n",
    "        data = data[0]\n",
    "        print(res.confidence_interval)\n",
    "        result_rm['Success_Rate'] = ['{:.2f} ({:.2f}, {:.2f})'.format(data.mean(), low, high )]\n",
    "    success_result = pd.concat([success_result, result_rm])\n",
    "\n",
    "result = result.set_index('Recourse_Method')\n",
    "success_result = success_result.set_index('Recourse_Method')\n",
    "result = result.join(success_result, on='Recourse_Method')\n",
    "#success_table = pd.DataFrame([1]*successful + [0] * (100-successful))\n",
    "#result_table[['Success_Rate', \"Recourse_Method\"]].groupby('Recourse_Method').mean()"
   ],
   "metadata": {
    "collapsed": false,
    "pycharm": {
     "name": "#%%\n"
    }
   }
  },
  {
   "cell_type": "code",
   "execution_count": 149,
   "outputs": [],
   "source": [
    "#result['Success_Rate'] = result_table[['Success_Rate', \"Recourse_Method\"]].groupby('Recourse_Method').mean()['Success_Rate']"
   ],
   "metadata": {
    "collapsed": false,
    "pycharm": {
     "name": "#%%\n"
    }
   }
  },
  {
   "cell_type": "code",
   "execution_count": 150,
   "outputs": [],
   "source": [
    "#order_of_columns = ['Success_Rate', \"Success_retrained_ann_models\", \"Success_retrained_linear_models\", \"Success_retrained_forest_models\", \"trade-off\", \"LOF\", \"L1_Distance\"]\n",
    "order_of_columns = ['Success_Rate', \"Success_retrained_ann_models\", \"Success_retrained_linear_models\", \"Success_retrained_forest_models\"] + metrics_non_model\n",
    "#result = result.join(result_table[['Success_Rate', \"Recourse_Method\"]].groupby('Recourse_Method').mean(), on='Recourse_Method').set_index('Recourse_Method')\n",
    "result = result.sort_index()\n",
    "result = result[order_of_columns]\n",
    "result.to_csv('{}{}_{}.csv'.format(save_results_path, dataset_name, model_type + '_time'), float_format='%.2f')\n",
    "\n",
    "#small_result_table.to_csv('{}{}_{}_small.csv'.format(save_results_path, dataset_name, model_type), float_format='%.2f')"
   ],
   "metadata": {
    "collapsed": false,
    "pycharm": {
     "name": "#%%\n"
    }
   }
  }
 ],
 "metadata": {
  "kernelspec": {
   "name": "pycharm-6d0a8c1b",
   "language": "python",
   "display_name": "PyCharm (CARLA)"
  },
  "language_info": {
   "codemirror_mode": {
    "name": "ipython",
    "version": 3
   },
   "file_extension": ".py",
   "mimetype": "text/x-python",
   "name": "python",
   "nbconvert_exporter": "python",
   "pygments_lexer": "ipython3",
   "version": "3.7.9"
  }
 },
 "nbformat": 4,
 "nbformat_minor": 5
}